{
  "nbformat": 4,
  "nbformat_minor": 0,
  "metadata": {
    "colab": {
      "provenance": [],
      "authorship_tag": "ABX9TyOJVj2/e8F3kz3tzJpcpHEj",
      "include_colab_link": true
    },
    "kernelspec": {
      "name": "python3",
      "display_name": "Python 3"
    },
    "language_info": {
      "name": "python"
    }
  },
  "cells": [
    {
      "cell_type": "markdown",
      "metadata": {
        "id": "view-in-github",
        "colab_type": "text"
      },
      "source": [
        "<a href=\"https://colab.research.google.com/github/Masyithah28/PembelajaranMesin_Ganjil_2024/blob/main/Jobsheet3Regersi.ipynb\" target=\"_parent\"><img src=\"https://colab.research.google.com/assets/colab-badge.svg\" alt=\"Open In Colab\"/></a>"
      ]
    },
    {
      "cell_type": "markdown",
      "source": [
        "# Jobsheet 3 - Regresi\n",
        "\n",
        "Nama  : masyithah Sophia Damayanti\n",
        "\n",
        "Kelas : TI - 3C\n",
        "\n",
        "NIM   : 2241720011\n",
        "\n",
        "No    : 15\n",
        "\n",
        "[Google Colab](https://colab.research.google.com/drive/126K-B2w11gTEXxuyB0AZIY9H_R95Y3rb?usp=sharing)\n",
        "\n",
        "[Github](https://)"
      ],
      "metadata": {
        "id": "uq5fTTE3wLZK"
      }
    },
    {
      "cell_type": "code",
      "execution_count": null,
      "metadata": {
        "id": "wTho61VKwE0e"
      },
      "outputs": [],
      "source": []
    }
  ]
}