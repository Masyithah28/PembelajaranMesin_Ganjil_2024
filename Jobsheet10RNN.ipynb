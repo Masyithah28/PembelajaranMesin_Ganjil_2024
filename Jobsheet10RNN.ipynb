{
  "cells": [
    {
      "cell_type": "markdown",
      "metadata": {
        "id": "view-in-github",
        "colab_type": "text"
      },
      "source": [
        "<a href=\"https://colab.research.google.com/github/Masyithah28/PembelajaranMesin_Ganjil_2024/blob/main/Jobsheet10RNN.ipynb\" target=\"_parent\"><img src=\"https://colab.research.google.com/assets/colab-badge.svg\" alt=\"Open In Colab\"/></a>"
      ]
    },
    {
      "cell_type": "markdown",
      "metadata": {
        "id": "qXJXyybGoNmQ"
      },
      "source": [
        "# Jobsheet 10 - Recurrent Neural Network(CNN)   \n",
        "Nama  : Masyithah Sophia Damayanti   \n",
        "Kelas : TI - 3C   \n",
        "No    : 15  \n",
        "NIM   : 2241720011    \n",
        "[Github](https://)    \n",
        "[Google Colab](https://colab.research.google.com/drive/1huRi50xcwl75jC-o24Z9kIVz4CbqVkag?usp=sharing)\n",
        "\n"
      ]
    },
    {
      "cell_type": "markdown",
      "metadata": {
        "id": "Igm0AxYCoukj"
      },
      "source": [
        "## Praktikum 1\n",
        "### Setup"
      ]
    },
    {
      "cell_type": "code",
      "execution_count": 1,
      "metadata": {
        "id": "ROcsa3Han8Ry"
      },
      "outputs": [],
      "source": [
        "import numpy as np\n",
        "import tensorflow_datasets as tfds\n",
        "import tensorflow as tf\n",
        "\n",
        "tfds.disable_progress_bar()"
      ]
    },
    {
      "cell_type": "code",
      "execution_count": 2,
      "metadata": {
        "id": "eLs-uaG8oI_S"
      },
      "outputs": [],
      "source": [
        "import matplotlib.pyplot as plt\n",
        "\n",
        "def plot_graphs(history, metric):\n",
        "  plt.plot(history.history[metric])\n",
        "  plt.plot(history.history['val_'+metric], '')\n",
        "  plt.xlabel(\"Epochs\")\n",
        "  plt.ylabel(metric)\n",
        "  plt.legend([metric, 'val_'+metric])"
      ]
    },
    {
      "cell_type": "markdown",
      "source": [
        "**Penjelasan:**\n",
        "'plot_graphs' untuk membuat grafik yang menunjukkan perubahan metrik selama pelatihan dan validasi model per epoch."
      ],
      "metadata": {
        "id": "6Rxi5Y-VRqiJ"
      }
    },
    {
      "cell_type": "markdown",
      "metadata": {
        "id": "83WJ8z_spgKI"
      },
      "source": [
        "### Setup Input Pipeline"
      ]
    },
    {
      "cell_type": "code",
      "execution_count": 3,
      "metadata": {
        "colab": {
          "base_uri": "https://localhost:8080/"
        },
        "id": "-PaRtCuKpki1",
        "outputId": "7cbb58ae-1397-45a3-f6e5-fdef3e157d54"
      },
      "outputs": [
        {
          "output_type": "stream",
          "name": "stdout",
          "text": [
            "Downloading and preparing dataset 80.23 MiB (download: 80.23 MiB, generated: Unknown size, total: 80.23 MiB) to /root/tensorflow_datasets/imdb_reviews/plain_text/1.0.0...\n",
            "Dataset imdb_reviews downloaded and prepared to /root/tensorflow_datasets/imdb_reviews/plain_text/1.0.0. Subsequent calls will reuse this data.\n"
          ]
        },
        {
          "output_type": "execute_result",
          "data": {
            "text/plain": [
              "(TensorSpec(shape=(), dtype=tf.string, name=None),\n",
              " TensorSpec(shape=(), dtype=tf.int64, name=None))"
            ]
          },
          "metadata": {},
          "execution_count": 3
        }
      ],
      "source": [
        "dataset, info = tfds.load('imdb_reviews', with_info=True,\n",
        "                          as_supervised=True)\n",
        "train_dataset, test_dataset = dataset['train'], dataset['test']\n",
        "\n",
        "train_dataset.element_spec"
      ]
    },
    {
      "cell_type": "markdown",
      "source": [
        "**Penjelasan:**\n",
        "untuk mengambil dataset untuk IMDB dan membagi menjadi data latih dan data uji. Setiap data terdapat ulasan film dan label angka yang mengindetifikasi sentimen positif atau negatif"
      ],
      "metadata": {
        "id": "Vs6QPbt-SFDs"
      }
    },
    {
      "cell_type": "markdown",
      "metadata": {
        "id": "4GeWy8knqDy7"
      },
      "source": [
        "### Mengembalikan Dataset(teks, pasangan label)"
      ]
    },
    {
      "cell_type": "code",
      "execution_count": 4,
      "metadata": {
        "colab": {
          "base_uri": "https://localhost:8080/"
        },
        "id": "V4JbIZH7p4Hx",
        "outputId": "61974719-5fa3-4882-e3e8-de6247ecf96d"
      },
      "outputs": [
        {
          "output_type": "stream",
          "name": "stdout",
          "text": [
            "text:  b\"This was an absolutely terrible movie. Don't be lured in by Christopher Walken or Michael Ironside. Both are great actors, but this must simply be their worst role in history. Even their great acting could not redeem this movie's ridiculous storyline. This movie is an early nineties US propaganda piece. The most pathetic scenes were those when the Columbian rebels were making their cases for revolutions. Maria Conchita Alonso appeared phony, and her pseudo-love affair with Walken was nothing but a pathetic emotional plug in a movie that was devoid of any real meaning. I am disappointed that there are movies like this, ruining actor's like Christopher Walken's good name. I could barely sit through it.\"\n",
            "label:  0\n"
          ]
        }
      ],
      "source": [
        "for example, label in train_dataset.take(1):\n",
        "  print('text: ', example.numpy())\n",
        "  print('label: ', label.numpy())"
      ]
    },
    {
      "cell_type": "markdown",
      "source": [
        "**Penjelasan:**  \n",
        "Berfungsi menampilkan contoh dataset IMDB yaitu teks ulasan dan label. Teks ulasan diatas dengan hasil negatif (label 0), yang menunjukkan bahwa orang tersebut tidak menyukai filmnya."
      ],
      "metadata": {
        "id": "3sUUd4Z2TASg"
      }
    },
    {
      "cell_type": "markdown",
      "metadata": {
        "id": "Y6xbumoKqKCR"
      },
      "source": [
        "### Mengacak Data untuk Pelatihan dan membuat kumpulan pasangan (teks, label):"
      ]
    },
    {
      "cell_type": "code",
      "execution_count": 5,
      "metadata": {
        "colab": {
          "base_uri": "https://localhost:8080/"
        },
        "id": "ystLnxv-qZZX",
        "outputId": "6c13b27e-2e77-4f1a-a515-8a4f644c0846"
      },
      "outputs": [
        {
          "output_type": "stream",
          "name": "stdout",
          "text": [
            "texts:  [b\"i just happened to stumble on this film channel surfing. my first reaction was, 'oh god not again!'. it's so hip to play a retard these days it has become pretentious and frankly despicable. for some reason, though, i stayed and watched it 'til the end. maybe it was my faith in the actors, hoping they'd give me something to cheer about.<br /><br />and surely, ken and helena can act. also, the movie progresses into something better towards the end and actually does make a point.<br /><br />helena bonham carter also surprised me with her character. jane has a mean side that she uses to keep distance and repel pity. then again she has a soft side that's just looking for love. the only thing that surprised me even more was branagh's character...this was a triumph of acting, the movie itself is nothing unique.<br /><br />see if you are an acting student...if you're looking for pure entertainment you can skip this one. it's sean penn serious! oh my, that was a bit harsh it does feature a couple jokes...not for escapists though.\"\n",
            " b\"Yes, this movie make me feel real horror, when i realized that i paid for it and spent more than 1 hour of my life trying to watch it. The bald guy just give me the impression of being a psycho - Junkie actor and the girl is the worst actress i ever seen . Believe me if you appreciate your time avoid this movie, i understand a movie requires money to be created and some movies do not have that money but that is no justification for a stupid plot and bad acting. I'm always supporting independent movies, when it deserves the support, but movies like this makes a bad name for this kind of movies. I'm still traumatized. I will not trust in any nice cover anymore.\"\n",
            " b'I think it took a lot of guts for her to come forward like that. It is unfortunate that when a celebrity suffers that is what helps people most. But, in her case, what she did was remarkable. I have been in the mental health field for five years and I think it is great that mental illness is not a terrible word anymore and I believe she helped. I always thought she was great and always will. I am glad that she wrote this book and that the movie was made. She is a remarkable lady and I hope she continues to act. She has been through a lot and has faced it. I would really love to see her work more with children, especially child actors. Her ordeal should not have happened and I think she would be wonderful as a mentor to young people. The movie was so moving to me that I was very touched. Suffering a TBI which brought the onset of my disorder and having PTSD, it is good to know that someone has the courage enough to display her life as she did. I believe it helped this nation and people in general realize that there are others like them and that there is help. Thank you Ms. Duke, or Anna, which ever you prefer.']\n",
            "\n",
            "labels:  [0 0 1]\n"
          ]
        }
      ],
      "source": [
        "BUFFER_SIZE = 10000\n",
        "BATCH_SIZE = 64\n",
        "\n",
        "train_dataset = train_dataset.shuffle(BUFFER_SIZE).batch(BATCH_SIZE).prefetch(tf.data.AUTOTUNE)\n",
        "test_dataset = test_dataset.batch(BATCH_SIZE).prefetch(tf.data.AUTOTUNE)\n",
        "\n",
        "for example, label in train_dataset.take(1):\n",
        "  print('texts: ', example.numpy()[:3])\n",
        "  print()\n",
        "  print('labels: ', label.numpy()[:3])\n"
      ]
    },
    {
      "cell_type": "markdown",
      "source": [
        "**Penjelasan:**   \n",
        "Berfungsi untuk mengambil 3 contoh data ulasan dari dataset pelatihan IMDB"
      ],
      "metadata": {
        "id": "98rKNUX0TndA"
      }
    },
    {
      "cell_type": "markdown",
      "metadata": {
        "id": "6FCQuCWqqdYT"
      },
      "source": [
        "### Teks Encoder"
      ]
    },
    {
      "cell_type": "code",
      "execution_count": 6,
      "metadata": {
        "id": "FIBZ2fy7qhoL"
      },
      "outputs": [],
      "source": [
        "VOCAB_SIZE = 1000\n",
        "encoder = tf.keras.layers.TextVectorization(\n",
        "    max_tokens=VOCAB_SIZE)\n",
        "encoder.adapt(train_dataset.map(lambda text, label: text))"
      ]
    },
    {
      "cell_type": "markdown",
      "source": [
        "**Penjelasan:**\n",
        "Untuk membuat encoder yang merubah teks menjadi angka berdasarkan maksimal 1000 kata unik, kemudian teks akan di train_dataset agar mengenali kata-kata yang paling sering muncul."
      ],
      "metadata": {
        "id": "xueEaJyET2an"
      }
    },
    {
      "cell_type": "markdown",
      "metadata": {
        "id": "w8NlHSZTqk2Q"
      },
      "source": [
        "### Metode .adapt"
      ]
    },
    {
      "cell_type": "code",
      "execution_count": 7,
      "metadata": {
        "colab": {
          "base_uri": "https://localhost:8080/"
        },
        "id": "em_Uu0Tgqien",
        "outputId": "978b0242-c24c-4ea1-e56a-b3c23dd8e0fd"
      },
      "outputs": [
        {
          "output_type": "execute_result",
          "data": {
            "text/plain": [
              "array(['', '[UNK]', 'the', 'and', 'a', 'of', 'to', 'is', 'in', 'it', 'i',\n",
              "       'this', 'that', 'br', 'was', 'as', 'for', 'with', 'movie', 'but'],\n",
              "      dtype='<U14')"
            ]
          },
          "metadata": {},
          "execution_count": 7
        }
      ],
      "source": [
        "vocab = np.array(encoder.get_vocabulary())\n",
        "vocab[:20]"
      ]
    },
    {
      "cell_type": "markdown",
      "source": [
        "**Penjelasan:**   \n",
        "Kode ditas untuk mengambil 20 kata pertama dari daftar."
      ],
      "metadata": {
        "id": "qW_hm0fMUxag"
      }
    },
    {
      "cell_type": "markdown",
      "metadata": {
        "id": "oJJ1QfFOrubC"
      },
      "source": [
        "### Memberi lapisan untuk mengkodekan teks ke dalam indks"
      ]
    },
    {
      "cell_type": "code",
      "execution_count": 8,
      "metadata": {
        "colab": {
          "base_uri": "https://localhost:8080/"
        },
        "id": "qws26HEtr7zL",
        "outputId": "0dfad75a-2789-4073-eb82-9b8e5a301f28"
      },
      "outputs": [
        {
          "output_type": "execute_result",
          "data": {
            "text/plain": [
              "array([[ 10,  41, 562, ...,   0,   0,   0],\n",
              "       [414,  11,  18, ...,   0,   0,   0],\n",
              "       [ 10, 103,   9, ...,   0,   0,   0]])"
            ]
          },
          "metadata": {},
          "execution_count": 8
        }
      ],
      "source": [
        "encoded_example = encoder(example)[:3].numpy()\n",
        "encoded_example"
      ]
    },
    {
      "cell_type": "markdown",
      "source": [
        "**Penjelasan:**   \n",
        "Kode untuk mengubah tiga teks ulasan menjadi angka, yang masing-masing diambil untuk mewakili kata dalam teks."
      ],
      "metadata": {
        "id": "rdiqaL0lVT8Y"
      }
    },
    {
      "cell_type": "markdown",
      "metadata": {
        "id": "TZkENeu2qyb0"
      },
      "source": [
        "### Mengatur Kosakata terbatas dan kurang fallback dengan karekater yang menghasilkan token tidak diketahui"
      ]
    },
    {
      "cell_type": "code",
      "execution_count": 9,
      "metadata": {
        "colab": {
          "base_uri": "https://localhost:8080/"
        },
        "id": "xekp6CX-rASC",
        "outputId": "bdac8d68-c898-4307-b90d-af53801b94fd"
      },
      "outputs": [
        {
          "output_type": "stream",
          "name": "stdout",
          "text": [
            "Original:  b\"i just happened to stumble on this film channel surfing. my first reaction was, 'oh god not again!'. it's so hip to play a retard these days it has become pretentious and frankly despicable. for some reason, though, i stayed and watched it 'til the end. maybe it was my faith in the actors, hoping they'd give me something to cheer about.<br /><br />and surely, ken and helena can act. also, the movie progresses into something better towards the end and actually does make a point.<br /><br />helena bonham carter also surprised me with her character. jane has a mean side that she uses to keep distance and repel pity. then again she has a soft side that's just looking for love. the only thing that surprised me even more was branagh's character...this was a triumph of acting, the movie itself is nothing unique.<br /><br />see if you are an acting student...if you're looking for pure entertainment you can skip this one. it's sean penn serious! oh my, that was a bit harsh it does feature a couple jokes...not for escapists though.\"\n",
            "Round-trip:  i just happened to [UNK] on this film [UNK] [UNK] my first [UNK] was oh god not again its so [UNK] to play a [UNK] these days it has become [UNK] and [UNK] [UNK] for some reason though i [UNK] and watched it [UNK] the end maybe it was my [UNK] in the actors [UNK] [UNK] give me something to [UNK] [UNK] br and [UNK] [UNK] and [UNK] can act also the movie [UNK] into something better towards the end and actually does make a [UNK] br [UNK] [UNK] [UNK] also surprised me with her character jane has a mean side that she [UNK] to keep [UNK] and [UNK] [UNK] then again she has a [UNK] side thats just looking for love the only thing that surprised me even more was [UNK] [UNK] was a [UNK] of acting the movie itself is nothing [UNK] br see if you are an acting [UNK] youre looking for [UNK] entertainment you can [UNK] this one its [UNK] [UNK] serious oh my that was a bit [UNK] it does feature a couple [UNK] for [UNK] though                                                                                                                                                                                                                                                                                                                                                                                                                                                                                                                                                                                                          \n",
            "\n",
            "Original:  b\"Yes, this movie make me feel real horror, when i realized that i paid for it and spent more than 1 hour of my life trying to watch it. The bald guy just give me the impression of being a psycho - Junkie actor and the girl is the worst actress i ever seen . Believe me if you appreciate your time avoid this movie, i understand a movie requires money to be created and some movies do not have that money but that is no justification for a stupid plot and bad acting. I'm always supporting independent movies, when it deserves the support, but movies like this makes a bad name for this kind of movies. I'm still traumatized. I will not trust in any nice cover anymore.\"\n",
            "Round-trip:  yes this movie make me feel real horror when i [UNK] that i [UNK] for it and [UNK] more than 1 hour of my life trying to watch it the [UNK] guy just give me the [UNK] of being a [UNK] [UNK] actor and the girl is the worst actress i ever seen believe me if you [UNK] your time avoid this movie i understand a movie [UNK] money to be [UNK] and some movies do not have that money but that is no [UNK] for a stupid plot and bad acting im always supporting [UNK] movies when it deserves the [UNK] but movies like this makes a bad name for this kind of movies im still [UNK] i will not [UNK] in any nice [UNK] [UNK]                                                                                                                                                                                                                                                                                                                                                                                                                                                                                                                                                                                                                                                                 \n",
            "\n",
            "Original:  b'I think it took a lot of guts for her to come forward like that. It is unfortunate that when a celebrity suffers that is what helps people most. But, in her case, what she did was remarkable. I have been in the mental health field for five years and I think it is great that mental illness is not a terrible word anymore and I believe she helped. I always thought she was great and always will. I am glad that she wrote this book and that the movie was made. She is a remarkable lady and I hope she continues to act. She has been through a lot and has faced it. I would really love to see her work more with children, especially child actors. Her ordeal should not have happened and I think she would be wonderful as a mentor to young people. The movie was so moving to me that I was very touched. Suffering a TBI which brought the onset of my disorder and having PTSD, it is good to know that someone has the courage enough to display her life as she did. I believe it helped this nation and people in general realize that there are others like them and that there is help. Thank you Ms. Duke, or Anna, which ever you prefer.'\n",
            "Round-trip:  i think it took a lot of [UNK] for her to come forward like that it is [UNK] that when a [UNK] [UNK] that is what [UNK] people most but in her case what she did was [UNK] i have been in the [UNK] [UNK] [UNK] for five years and i think it is great that [UNK] [UNK] is not a terrible word [UNK] and i believe she [UNK] i always thought she was great and always will i am [UNK] that she [UNK] this book and that the movie was made she is a [UNK] lady and i hope she [UNK] to act she has been through a lot and has [UNK] it i would really love to see her work more with children especially child actors her [UNK] should not have happened and i think she would be wonderful as a [UNK] to young people the movie was so moving to me that i was very [UNK] [UNK] a [UNK] which brought the [UNK] of my [UNK] and having [UNK] it is good to know that someone has the [UNK] enough to [UNK] her life as she did i believe it [UNK] this [UNK] and people in general realize that there are others like them and that there is help [UNK] you [UNK] [UNK] or [UNK] which ever you [UNK]                                                                                                                                                                                                                                                                                                                                                                                                                                                                                                                                                                  \n",
            "\n"
          ]
        }
      ],
      "source": [
        "for n in range(3):\n",
        "  print(\"Original: \", example[n].numpy())\n",
        "  print(\"Round-trip: \", \" \".join(vocab[encoded_example[n]]))\n",
        "  print()"
      ]
    },
    {
      "cell_type": "markdown",
      "source": [
        "**Penjelasan:**   \n",
        "Untuk menampilkan teks asli dan menampilkan teks yang diubah menjadi angka, kemudian dikembalikan menggunakan bentuk kata asli dengan fungsi vocab"
      ],
      "metadata": {
        "id": "A4-0bsHGV2PK"
      }
    },
    {
      "cell_type": "markdown",
      "metadata": {
        "id": "OlDVOad0sBRG"
      },
      "source": [
        "### Build Model"
      ]
    },
    {
      "cell_type": "code",
      "execution_count": 10,
      "metadata": {
        "id": "qKa5IgiIsBBk"
      },
      "outputs": [],
      "source": [
        "model = tf.keras.Sequential([\n",
        "    encoder,\n",
        "    tf.keras.layers.Embedding(\n",
        "        input_dim=len(encoder.get_vocabulary()),\n",
        "        output_dim=64,\n",
        "        # Use masking to handle the variable sequence lengths\n",
        "        mask_zero=True),\n",
        "    tf.keras.layers.Bidirectional(tf.keras.layers.LSTM(64)),\n",
        "    tf.keras.layers.Dense(64, activation='relu'),\n",
        "    tf.keras.layers.Dense(1)\n",
        "])"
      ]
    },
    {
      "cell_type": "markdown",
      "source": [
        "**Penjelasan:**\n",
        "Model ini mengubah teks jadi angka, memprosesnya dengan LSTM untuk memahami konteks, lalu memberikan prediksi sentimen (positif atau negatif)."
      ],
      "metadata": {
        "id": "caxL6XFiWbg3"
      }
    },
    {
      "cell_type": "markdown",
      "metadata": {
        "id": "3lVUxsjpsIo0"
      },
      "source": [
        "### Menggunakan Lapisan RNN"
      ]
    },
    {
      "cell_type": "code",
      "execution_count": 11,
      "metadata": {
        "colab": {
          "base_uri": "https://localhost:8080/"
        },
        "id": "cnuYxU5qsQyj",
        "outputId": "5a549104-fc30-4384-fa4f-529a1e923493"
      },
      "outputs": [
        {
          "output_type": "stream",
          "name": "stdout",
          "text": [
            "[False, True, True, True, True]\n"
          ]
        }
      ],
      "source": [
        "print([layer.supports_masking for layer in model.layers])"
      ]
    },
    {
      "cell_type": "markdown",
      "source": [
        "**Penjelasan:**   \n",
        "Untuk memriksa setiap lapisan yang digunakan untuk input.\n",
        "1. Lapisan pertama (encoder) tidak mendukung masking.\n",
        "2. Lapisan kedua (Embedding) hingga lapisan terakhir mendukung masking."
      ],
      "metadata": {
        "id": "n2c_1E5UW1MD"
      }
    },
    {
      "cell_type": "code",
      "execution_count": 12,
      "metadata": {
        "colab": {
          "base_uri": "https://localhost:8080/"
        },
        "id": "Tk4ayALlsYU_",
        "outputId": "053abd5e-c262-4cc8-e099-85d6183358ab"
      },
      "outputs": [
        {
          "output_type": "stream",
          "name": "stdout",
          "text": [
            "1/1 [==============================] - 2s 2s/step\n",
            "[0.00186378]\n"
          ]
        }
      ],
      "source": [
        "import numpy as np\n",
        "import tensorflow as tf\n",
        "\n",
        "# Fungsi untuk memproses teks menjadi dataset\n",
        "def create_dataset(text):\n",
        "    return tf.data.Dataset.from_tensor_slices([text]).batch(1)\n",
        "\n",
        "sample_text = ('The movie was cool. The animation and the graphics '\n",
        "               'were out of this world. I would recommend this movie.')\n",
        "dataset = create_dataset(sample_text)\n",
        "\n",
        "# Prediksi menggunakan model\n",
        "predictions = model.predict(dataset)\n",
        "print(predictions[0])"
      ]
    },
    {
      "cell_type": "markdown",
      "source": [
        "**Penjelasan:**   \n",
        "Untuk membuat dataset dari teks contoh, kemudian menggunakan model untuk memprediksi sentimen teks. Hasil prediksi akan ditampilkan sebagai output pertama dari model."
      ],
      "metadata": {
        "id": "gL-s832pXZLG"
      }
    },
    {
      "cell_type": "code",
      "execution_count": 13,
      "metadata": {
        "colab": {
          "base_uri": "https://localhost:8080/"
        },
        "id": "E2sZ83mloVY8",
        "outputId": "fbf9bf88-4693-47ea-b539-6037a2921c11"
      },
      "outputs": [
        {
          "output_type": "stream",
          "name": "stdout",
          "text": [
            "2/2 [==============================] - 0s 89ms/step\n",
            "[0.00186378]\n",
            "[0.0030128]\n"
          ]
        }
      ],
      "source": [
        "import numpy as np\n",
        "import tensorflow as tf\n",
        "\n",
        "# Fungsi untuk memproses teks menjadi dataset\n",
        "def create_dataset(texts):\n",
        "    return tf.data.Dataset.from_tensor_slices(texts).batch(1)\n",
        "\n",
        "sample_text = ('The movie was cool. The animation and the graphics '\n",
        "               'were out of this world. I would recommend this movie.')\n",
        "padding = \"the \" * 2000  # Padding text\n",
        "texts = [sample_text, padding]  # List of texts including padding\n",
        "\n",
        "# Membuat dataset dari teks\n",
        "dataset = create_dataset(texts)\n",
        "\n",
        "# Prediksi menggunakan model\n",
        "predictions = model.predict(dataset)\n",
        "for pred in predictions:\n",
        "    print(pred)"
      ]
    },
    {
      "cell_type": "markdown",
      "source": [
        "**Penjelasan:**   \n",
        "Membuat dataset dari dua teks ulasan dan satu teks panjang dengan padding, lalu menggunakan model untuk memprediksi sentimen keduanya."
      ],
      "metadata": {
        "id": "53g0FhRBXiys"
      }
    },
    {
      "cell_type": "code",
      "execution_count": 14,
      "metadata": {
        "id": "YsiYYeaopXbG"
      },
      "outputs": [],
      "source": [
        "model.compile(loss=tf.keras.losses.BinaryCrossentropy(from_logits=True),\n",
        "              optimizer=tf.keras.optimizers.Adam(1e-4),\n",
        "              metrics=['accuracy'])"
      ]
    },
    {
      "cell_type": "markdown",
      "source": [
        "**Penjelasan:**\n",
        "Untuk mengonfigurasi model dengan fungsi kerugian Binary Crossentropy, optimizer Adam dengan laju pembelajaran 1e-4, dan metrik akurasi untuk evaluasi performa model."
      ],
      "metadata": {
        "id": "awsdybxfX2a9"
      }
    },
    {
      "cell_type": "markdown",
      "metadata": {
        "id": "LwnaiIkWpcd_"
      },
      "source": [
        "### Train Model"
      ]
    },
    {
      "cell_type": "code",
      "execution_count": 15,
      "metadata": {
        "colab": {
          "base_uri": "https://localhost:8080/"
        },
        "id": "NrD965lGpbKG",
        "outputId": "a75e9cf0-7d6f-40c9-b2f0-612c912e72f2"
      },
      "outputs": [
        {
          "output_type": "stream",
          "name": "stdout",
          "text": [
            "Epoch 1/10\n",
            "391/391 [==============================] - 231s 572ms/step - loss: 0.6399 - accuracy: 0.5698 - val_loss: 0.5371 - val_accuracy: 0.7063\n",
            "Epoch 2/10\n",
            "391/391 [==============================] - 217s 555ms/step - loss: 0.5315 - accuracy: 0.7584 - val_loss: 0.4223 - val_accuracy: 0.7833\n",
            "Epoch 3/10\n",
            "391/391 [==============================] - 220s 562ms/step - loss: 0.3958 - accuracy: 0.8203 - val_loss: 0.3877 - val_accuracy: 0.8224\n",
            "Epoch 4/10\n",
            "391/391 [==============================] - 223s 569ms/step - loss: 0.3544 - accuracy: 0.8446 - val_loss: 0.3514 - val_accuracy: 0.8380\n",
            "Epoch 5/10\n",
            "391/391 [==============================] - 223s 571ms/step - loss: 0.3314 - accuracy: 0.8565 - val_loss: 0.3445 - val_accuracy: 0.8542\n",
            "Epoch 6/10\n",
            "391/391 [==============================] - 228s 583ms/step - loss: 0.3188 - accuracy: 0.8607 - val_loss: 0.3288 - val_accuracy: 0.8562\n",
            "Epoch 7/10\n",
            "391/391 [==============================] - 223s 571ms/step - loss: 0.3095 - accuracy: 0.8654 - val_loss: 0.3231 - val_accuracy: 0.8568\n",
            "Epoch 8/10\n",
            "391/391 [==============================] - 225s 575ms/step - loss: 0.3055 - accuracy: 0.8691 - val_loss: 0.3273 - val_accuracy: 0.8474\n",
            "Epoch 9/10\n",
            "391/391 [==============================] - 222s 569ms/step - loss: 0.3027 - accuracy: 0.8704 - val_loss: 0.3184 - val_accuracy: 0.8615\n",
            "Epoch 10/10\n",
            "391/391 [==============================] - 220s 562ms/step - loss: 0.2991 - accuracy: 0.8711 - val_loss: 0.3182 - val_accuracy: 0.8568\n"
          ]
        }
      ],
      "source": [
        "history = model.fit(train_dataset, epochs=10,\n",
        "                    validation_data=test_dataset,\n",
        "                    validation_steps=30)"
      ]
    },
    {
      "cell_type": "code",
      "execution_count": 16,
      "metadata": {
        "colab": {
          "base_uri": "https://localhost:8080/"
        },
        "id": "GKkyj6WbGJcc",
        "outputId": "8c495559-5591-4406-f181-9eabe7014cb0"
      },
      "outputs": [
        {
          "output_type": "stream",
          "name": "stdout",
          "text": [
            "391/391 [==============================] - 66s 168ms/step - loss: 0.3135 - accuracy: 0.8554\n",
            "Test Loss: 0.3135222792625427\n",
            "Test Accuracy: 0.855400025844574\n"
          ]
        }
      ],
      "source": [
        "test_loss, test_acc = model.evaluate(test_dataset)\n",
        "\n",
        "print('Test Loss:', test_loss)\n",
        "print('Test Accuracy:', test_acc)"
      ]
    },
    {
      "cell_type": "markdown",
      "source": [
        "**Penjelasan:**\n",
        "Untuk mengevaluasi model menggunakan dataset pengujian, lalu menampilkan nilai kerugian (loss) dan akurasi model pada data pengujian."
      ],
      "metadata": {
        "id": "apHwznvbYFu6"
      }
    },
    {
      "cell_type": "code",
      "source": [
        "plt.figure(figsize=(16, 8))\n",
        "plt.subplot(1, 2, 1)\n",
        "plot_graphs(history, 'accuracy')\n",
        "plt.ylim(None, 1)\n",
        "plt.subplot(1, 2, 2)\n",
        "plot_graphs(history, 'loss')\n",
        "plt.ylim(0, None)"
      ],
      "metadata": {
        "colab": {
          "base_uri": "https://localhost:8080/",
          "height": 467
        },
        "id": "yQDmd2tj1eoA",
        "outputId": "49608691-49f3-4f84-81c0-b8c2f9068dd1"
      },
      "execution_count": 17,
      "outputs": [
        {
          "output_type": "execute_result",
          "data": {
            "text/plain": [
              "(0.0, 0.6569288015365601)"
            ]
          },
          "metadata": {},
          "execution_count": 17
        },
        {
          "output_type": "display_data",
          "data": {
            "text/plain": [
              "<Figure size 1600x800 with 2 Axes>"
            ],
            "image/png": "[encoded data removed]"
          },
          "metadata": {}
        }
      ]
    },
    {
      "cell_type": "markdown",
      "source": [
        "**Penjelasan:**   \n",
        "Untuk menampilkan dua grafik dalam satu baris: satu akurasi dan satu untuk kerugian (loss) selama pelatihan model."
      ],
      "metadata": {
        "id": "51JDpYooYP5l"
      }
    },
    {
      "cell_type": "code",
      "source": [
        "import numpy as np\n",
        "import tensorflow as tf\n",
        "\n",
        "sample_text = ('The movie was cool. The animation and the graphics '\n",
        "               'were out of this world. I would recommend this movie.')\n",
        "\n",
        "# Mengonversi teks menjadi tensor\n",
        "sample_tensor = tf.convert_to_tensor([sample_text])\n",
        "\n",
        "# Prediksi menggunakan model\n",
        "predictions = model.predict(sample_tensor)\n",
        "print(predictions[0])"
      ],
      "metadata": {
        "colab": {
          "base_uri": "https://localhost:8080/"
        },
        "id": "FsJXEJUA2QsY",
        "outputId": "89542606-4eb1-435a-eccf-6b2cadee393e"
      },
      "execution_count": 18,
      "outputs": [
        {
          "output_type": "stream",
          "name": "stdout",
          "text": [
            "1/1 [==============================] - 3s 3s/step\n",
            "[0.5105581]\n"
          ]
        }
      ]
    },
    {
      "cell_type": "markdown",
      "source": [
        "**Penjelasan:**\n",
        "Untuk prediksi sentimen dari teks contoh tanpa padding, lalu ditampilkan hasil prediksi model."
      ],
      "metadata": {
        "id": "IUdZhGn8YmE7"
      }
    },
    {
      "cell_type": "markdown",
      "source": [
        "### Stack two or more LSTM layers"
      ],
      "metadata": {
        "id": "p9l-rP7_b40F"
      }
    },
    {
      "cell_type": "code",
      "source": [
        "model = tf.keras.Sequential([\n",
        "  encoder,\n",
        "  tf.keras.layers.Embedding(len(encoder.get_vocabulary()), 64, mask_zero=True),\n",
        "  tf.keras.layers.Bidirectional(tf.keras.layers.LSTM(64, return_sequences=True)),\n",
        "  tf.keras.layers.Bidirectional(tf.keras.layers.LSTM(32)),\n",
        "  tf.keras.layers.Dense(64, activation='relu'),\n",
        "  tf.keras.layers.Dropout(0.5),\n",
        "  tf.keras.layers.Dense(1)\n",
        "])"
      ],
      "metadata": {
        "id": "GSu8S9eHb8S9"
      },
      "execution_count": 19,
      "outputs": []
    },
    {
      "cell_type": "markdown",
      "source": [
        "**Penjelasan:**\n",
        "Memproses data urutan teks, mengubahnya jadi vektor angka, memahami konteks dari dua arah (maju-mundur), dan mencari pola untuk menghasilkan satu output prediksi."
      ],
      "metadata": {
        "id": "RHj68ILSdc6p"
      }
    },
    {
      "cell_type": "code",
      "source": [
        "model.compile(loss=tf.keras.losses.BinaryCrossentropy(from_logits=True),\n",
        "              optimizer=tf.keras.optimizers.Adam(1e-4),\n",
        "              metrics=['accuracy'])"
      ],
      "metadata": {
        "id": "WF54amOScIr7"
      },
      "execution_count": 20,
      "outputs": []
    },
    {
      "cell_type": "code",
      "source": [
        "history = model.fit(train_dataset, epochs=10,\n",
        "          validation_data=test_dataset,\n",
        "          validation_steps=30)"
      ],
      "metadata": {
        "colab": {
          "base_uri": "https://localhost:8080/"
        },
        "id": "9MaztV-1cT0l",
        "outputId": "5defb4b2-b40c-4b87-bcc5-f29dfd62832f"
      },
      "execution_count": 21,
      "outputs": [
        {
          "output_type": "stream",
          "name": "stdout",
          "text": [
            "Epoch 1/10\n",
            "391/391 [==============================] - 449s 1s/step - loss: 0.6364 - accuracy: 0.5733 - val_loss: 0.4742 - val_accuracy: 0.7479\n",
            "Epoch 2/10\n",
            "391/391 [==============================] - 435s 1s/step - loss: 0.3959 - accuracy: 0.8252 - val_loss: 0.3648 - val_accuracy: 0.8359\n",
            "Epoch 3/10\n",
            "391/391 [==============================] - 434s 1s/step - loss: 0.3413 - accuracy: 0.8554 - val_loss: 0.3640 - val_accuracy: 0.8229\n",
            "Epoch 4/10\n",
            "391/391 [==============================] - 431s 1s/step - loss: 0.3202 - accuracy: 0.8624 - val_loss: 0.3598 - val_accuracy: 0.8297\n",
            "Epoch 5/10\n",
            "391/391 [==============================] - 428s 1s/step - loss: 0.3170 - accuracy: 0.8660 - val_loss: 0.3231 - val_accuracy: 0.8583\n",
            "Epoch 6/10\n",
            "391/391 [==============================] - 424s 1s/step - loss: 0.3083 - accuracy: 0.8677 - val_loss: 0.3255 - val_accuracy: 0.8469\n",
            "Epoch 7/10\n",
            "391/391 [==============================] - 425s 1s/step - loss: 0.3042 - accuracy: 0.8701 - val_loss: 0.3193 - val_accuracy: 0.8516\n",
            "Epoch 8/10\n",
            "391/391 [==============================] - 422s 1s/step - loss: 0.2998 - accuracy: 0.8714 - val_loss: 0.3178 - val_accuracy: 0.8562\n",
            "Epoch 9/10\n",
            "391/391 [==============================] - 422s 1s/step - loss: 0.2985 - accuracy: 0.8713 - val_loss: 0.3264 - val_accuracy: 0.8589\n",
            "Epoch 10/10\n",
            "391/391 [==============================] - 419s 1s/step - loss: 0.2948 - accuracy: 0.8720 - val_loss: 0.3149 - val_accuracy: 0.8557\n"
          ]
        }
      ]
    },
    {
      "cell_type": "code",
      "source": [
        "test_loss, test_acc = model.evaluate(test_dataset)\n",
        "\n",
        "print('Test Loss:', test_loss)\n",
        "print('Test Accuracy:', test_acc)"
      ],
      "metadata": {
        "colab": {
          "base_uri": "https://localhost:8080/"
        },
        "id": "Nt5Q_tjNcnle",
        "outputId": "047daa3d-59b4-4f1a-9ec6-cbfe1e838ab2"
      },
      "execution_count": 22,
      "outputs": [
        {
          "output_type": "stream",
          "name": "stdout",
          "text": [
            "391/391 [==============================] - 115s 294ms/step - loss: 0.3139 - accuracy: 0.8557\n",
            "Test Loss: 0.3139404356479645\n",
            "Test Accuracy: 0.855679988861084\n"
          ]
        }
      ]
    },
    {
      "cell_type": "code",
      "source": [
        "import numpy as np\n",
        "import tensorflow as tf\n",
        "\n",
        "sample_text = ('The movie was not good. The animation and the graphics '\n",
        "                'were terrible. I would not recommend this movie.')\n",
        "\n",
        "# Mengonversi teks menjadi tensor\n",
        "sample_tensor = tf.convert_to_tensor([sample_text])\n",
        "\n",
        "# Prediksi menggunakan model\n",
        "predictions = model.predict(sample_tensor)\n",
        "print(predictions)"
      ],
      "metadata": {
        "id": "dqjPuLRKcpWF"
      },
      "execution_count": null,
      "outputs": []
    },
    {
      "cell_type": "code",
      "source": [
        "plt.figure(figsize=(16, 6))\n",
        "plt.subplot(1, 2, 1)\n",
        "plot_graphs(history, 'accuracy')\n",
        "plt.subplot(1, 2, 2)\n",
        "plot_graphs(history, 'loss')"
      ],
      "metadata": {
        "colab": {
          "base_uri": "https://localhost:8080/",
          "height": 349
        },
        "id": "JTFtmhPkcsZo",
        "outputId": "7c296052-bf21-4aa1-d779-e5b909df5cda"
      },
      "execution_count": 24,
      "outputs": [
        {
          "output_type": "display_data",
          "data": {
            "text/plain": [
              "<Figure size 1600x600 with 2 Axes>"
            ],
            "image/png": "[encoded data removed]"
          },
          "metadata": {}
        }
      ]
    },
    {
      "cell_type": "markdown",
      "source": [
        "## Praktikum 2"
      ],
      "metadata": {
        "id": "eavHpLEfY5xt"
      }
    },
    {
      "cell_type": "markdown",
      "source": [
        "### Import TensorFlow"
      ],
      "metadata": {
        "id": "LRpUKL9TZAu2"
      }
    },
    {
      "cell_type": "code",
      "source": [
        "import tensorflow as tf\n",
        "import numpy as np\n",
        "import os\n",
        "import time"
      ],
      "metadata": {
        "id": "LsfWepb1ZGbx"
      },
      "execution_count": 25,
      "outputs": []
    },
    {
      "cell_type": "markdown",
      "source": [
        "### Dataset Shakespeare"
      ],
      "metadata": {
        "id": "pSnhgzTzZQt8"
      }
    },
    {
      "cell_type": "code",
      "source": [
        "path_to_file = tf.keras.utils.get_file('shakespeare.txt','https://storage.googleapis.com/download.tensorflow.org/data/shakespeare.txt')"
      ],
      "metadata": {
        "colab": {
          "base_uri": "https://localhost:8080/"
        },
        "id": "cmVPlmzWZJFH",
        "outputId": "091de16f-6289-4723-cc05-b40ef6dd4d19"
      },
      "execution_count": 26,
      "outputs": [
        {
          "output_type": "stream",
          "name": "stdout",
          "text": [
            "Downloading data from https://storage.googleapis.com/download.tensorflow.org/data/shakespeare.txt\n",
            "1115394/1115394 [==============================] - 0s 0us/step\n"
          ]
        }
      ]
    },
    {
      "cell_type": "markdown",
      "source": [
        "### Load Data"
      ],
      "metadata": {
        "id": "f-1tVEy8ZU4y"
      }
    },
    {
      "cell_type": "code",
      "source": [
        "# Read, then decode for py2 compat.\n",
        "text = open(path_to_file, 'rb').read().decode(encoding='utf-8')\n",
        "# length of text is the number of characters in it\n",
        "print(f'Length of text: {len(text)} characters')"
      ],
      "metadata": {
        "colab": {
          "base_uri": "https://localhost:8080/"
        },
        "id": "wQ1jefSpZaJ2",
        "outputId": "01295727-79c0-4774-9e7c-97f7971ae7ab"
      },
      "execution_count": 27,
      "outputs": [
        {
          "output_type": "stream",
          "name": "stdout",
          "text": [
            "Length of text: 1115394 characters\n"
          ]
        }
      ]
    },
    {
      "cell_type": "markdown",
      "source": [
        "**Penjelasan:**\n",
        "Untuk membuka file dan, membaca isi data biner ('rb'), selanjutnya mengkonversi menjadi teks (utf-8).Panjang teks (jumlah karakter) dihitung dan ditampilkan di layar."
      ],
      "metadata": {
        "id": "AB0KrUaA6jBG"
      }
    },
    {
      "cell_type": "code",
      "source": [
        "# Take a look at the first 250 characters in text\n",
        "print(text[:250])"
      ],
      "metadata": {
        "colab": {
          "base_uri": "https://localhost:8080/"
        },
        "id": "t3QeRxweZbnj",
        "outputId": "ec0e065b-e1ca-4ee3-b0d1-b5bd204fea5f"
      },
      "execution_count": 28,
      "outputs": [
        {
          "output_type": "stream",
          "name": "stdout",
          "text": [
            "First Citizen:\n",
            "Before we proceed any further, hear me speak.\n",
            "\n",
            "All:\n",
            "Speak, speak.\n",
            "\n",
            "First Citizen:\n",
            "You are all resolved rather to die than to famish?\n",
            "\n",
            "All:\n",
            "Resolved. resolved.\n",
            "\n",
            "First Citizen:\n",
            "First, you know Caius Marcius is chief enemy to the people.\n",
            "\n"
          ]
        }
      ]
    },
    {
      "cell_type": "markdown",
      "source": [
        "**Penjelasan:**   \n",
        "Menampilkan 250 karakter pertama dari isi teks."
      ],
      "metadata": {
        "id": "DCrxOFRe67FW"
      }
    },
    {
      "cell_type": "code",
      "source": [
        "# The unique characters in the file\n",
        "vocab = sorted(set(text))\n",
        "print(f'{len(vocab)} unique characters')"
      ],
      "metadata": {
        "colab": {
          "base_uri": "https://localhost:8080/"
        },
        "id": "Hu7fCrL3ZcyN",
        "outputId": "a74a851c-23c5-488f-cbd3-714ed61e766c"
      },
      "execution_count": 29,
      "outputs": [
        {
          "output_type": "stream",
          "name": "stdout",
          "text": [
            "65 unique characters\n"
          ]
        }
      ]
    },
    {
      "cell_type": "markdown",
      "source": [
        "**Penjelasan:**\n",
        "Mencari karakter unik dalam teks dengan mengonversinya menjadi himpunan, kemudian mengurutkannya."
      ],
      "metadata": {
        "id": "z25IqfzN7DJb"
      }
    },
    {
      "cell_type": "markdown",
      "source": [
        "### Olah Teks"
      ],
      "metadata": {
        "id": "GZLEM4qmZf0_"
      }
    },
    {
      "cell_type": "code",
      "source": [
        "example_texts = ['abcdefg', 'xyz']\n",
        "chars = tf.strings.unicode_split(example_texts, input_encoding='UTF-8')\n",
        "chars"
      ],
      "metadata": {
        "colab": {
          "base_uri": "https://localhost:8080/"
        },
        "id": "73LbHm_dZ53I",
        "outputId": "185dbf42-8af4-45df-e0d9-82b17c4135bb"
      },
      "execution_count": 30,
      "outputs": [
        {
          "output_type": "execute_result",
          "data": {
            "text/plain": [
              "<tf.RaggedTensor [[b'a', b'b', b'c', b'd', b'e', b'f', b'g'], [b'x', b'y', b'z']]>"
            ]
          },
          "metadata": {},
          "execution_count": 30
        }
      ]
    },
    {
      "cell_type": "code",
      "source": [
        "ids_from_chars = tf.keras.layers.StringLookup(\n",
        "vocabulary=list(vocab),mask_token=None)"
      ],
      "metadata": {
        "id": "mhUzkekseAK0"
      },
      "execution_count": 31,
      "outputs": []
    },
    {
      "cell_type": "markdown",
      "source": [
        "**Penjelasan:**\n",
        "Untuk membuat layer StringLookup yang berfungsi mengonversi karakter menjadi ID numerik."
      ],
      "metadata": {
        "id": "d4fzIZk2ARTg"
      }
    },
    {
      "cell_type": "code",
      "source": [
        "ids = ids_from_chars(chars)\n",
        "ids"
      ],
      "metadata": {
        "colab": {
          "base_uri": "https://localhost:8080/"
        },
        "id": "Tc1n3Jaoec8Q",
        "outputId": "ef78b0b8-884d-4957-c6ee-94a2635dab16"
      },
      "execution_count": 32,
      "outputs": [
        {
          "output_type": "execute_result",
          "data": {
            "text/plain": [
              "<tf.RaggedTensor [[40, 41, 42, 43, 44, 45, 46], [63, 64, 65]]>"
            ]
          },
          "metadata": {},
          "execution_count": 32
        }
      ]
    },
    {
      "cell_type": "markdown",
      "source": [
        "**Penjelasan:**\n",
        "mengonversi karakter chars menjadi ID numerik berdasarkan kamus karakter vocab yang sudah dibuat."
      ],
      "metadata": {
        "id": "vNg2kcI3AaWY"
      }
    },
    {
      "cell_type": "code",
      "source": [
        "chars_from_ids = tf.keras.layers.StringLookup(\n",
        "    vocabulary=ids_from_chars.get_vocabulary(), invert=True, mask_token=None)"
      ],
      "metadata": {
        "id": "Glitp_pOefHS"
      },
      "execution_count": 33,
      "outputs": []
    },
    {
      "cell_type": "markdown",
      "source": [
        "**Penjelasan:**\n",
        "'invert=True' untuk membalikkan proses konversi dari ID ke karakter sesuai dengan kamus yang sudah ada."
      ],
      "metadata": {
        "id": "pz-g4zjPAuAO"
      }
    },
    {
      "cell_type": "code",
      "source": [
        "chars = chars_from_ids(ids)\n",
        "chars"
      ],
      "metadata": {
        "colab": {
          "base_uri": "https://localhost:8080/"
        },
        "id": "mYsbDEV-eha6",
        "outputId": "ad2bb36c-22c6-4abe-f123-e6a241aafedb"
      },
      "execution_count": 34,
      "outputs": [
        {
          "output_type": "execute_result",
          "data": {
            "text/plain": [
              "<tf.RaggedTensor [[b'a', b'b', b'c', b'd', b'e', b'f', b'g'], [b'x', b'y', b'z']]>"
            ]
          },
          "metadata": {},
          "execution_count": 34
        }
      ]
    },
    {
      "cell_type": "markdown",
      "source": [
        "**Penjelasan:**\n",
        "mengonversi ID numerik dalam idsdan dikembalikan menjadi karakter asli menggunakan kamus yang dibalik sebelumnya dengan chars_from_ids"
      ],
      "metadata": {
        "id": "NIM0RAl6BBP4"
      }
    },
    {
      "cell_type": "code",
      "source": [
        "tf.strings.reduce_join(chars, axis=-1).numpy()"
      ],
      "metadata": {
        "colab": {
          "base_uri": "https://localhost:8080/"
        },
        "id": "Oik81mlOejMs",
        "outputId": "ab859d9e-3105-4112-e1b1-79099d4ed34d"
      },
      "execution_count": 35,
      "outputs": [
        {
          "output_type": "execute_result",
          "data": {
            "text/plain": [
              "array([b'abcdefg', b'xyz'], dtype=object)"
            ]
          },
          "metadata": {},
          "execution_count": 35
        }
      ]
    },
    {
      "cell_type": "markdown",
      "source": [
        "**Penjelasan:**\n",
        "menggabungkan (join) kembali karakter dalam chars menjadi satu string, kemudian mengonversinya ke format numpy untuk memudahkan manipulasi."
      ],
      "metadata": {
        "id": "DBgHSRzSBS59"
      }
    },
    {
      "cell_type": "code",
      "source": [
        "def text_from_ids(ids):\n",
        "    return tf.strings.reduce_join(chars_from_ids(ids), axis=-1)"
      ],
      "metadata": {
        "id": "0Ku9gDMIekzi"
      },
      "execution_count": 36,
      "outputs": []
    },
    {
      "cell_type": "markdown",
      "source": [
        "**Penjelasan:**\n",
        "Fungsi untuk mengonversi ID numerik menjadi teks dengan menggabungkan karakter-karakter yang sesuai."
      ],
      "metadata": {
        "id": "TBWdDrQ6BtPB"
      }
    },
    {
      "cell_type": "markdown",
      "source": [
        "## Prediksi"
      ],
      "metadata": {
        "id": "V690GzBsen1S"
      }
    },
    {
      "cell_type": "markdown",
      "source": [
        "### Membuat Training Set dan Target"
      ],
      "metadata": {
        "id": "jKH5dIwbesXs"
      }
    },
    {
      "cell_type": "code",
      "source": [
        "all_ids = ids_from_chars(tf.strings.unicode_split(text, 'UTF-8'))\n",
        "all_ids"
      ],
      "metadata": {
        "colab": {
          "base_uri": "https://localhost:8080/"
        },
        "id": "ABH8-pTAez2O",
        "outputId": "b7bb758c-d805-402e-df35-7ff856b4c229"
      },
      "execution_count": 37,
      "outputs": [
        {
          "output_type": "execute_result",
          "data": {
            "text/plain": [
              "<tf.Tensor: shape=(1115394,), dtype=int64, numpy=array([19, 48, 57, ..., 46,  9,  1])>"
            ]
          },
          "metadata": {},
          "execution_count": 37
        }
      ]
    },
    {
      "cell_type": "code",
      "source": [
        "ids_dataset = tf.data.Dataset.from_tensor_slices(all_ids)"
      ],
      "metadata": {
        "id": "43InKtfhe12V"
      },
      "execution_count": 38,
      "outputs": []
    },
    {
      "cell_type": "code",
      "source": [
        "for ids in ids_dataset.take(10):\n",
        "    print(chars_from_ids(ids).numpy().decode('utf-8'))"
      ],
      "metadata": {
        "colab": {
          "base_uri": "https://localhost:8080/"
        },
        "id": "lHoD_U2je3qP",
        "outputId": "a9b4606d-d58b-4c61-a5bd-ac6dacd98229"
      },
      "execution_count": 39,
      "outputs": [
        {
          "output_type": "stream",
          "name": "stdout",
          "text": [
            "F\n",
            "i\n",
            "r\n",
            "s\n",
            "t\n",
            " \n",
            "C\n",
            "i\n",
            "t\n",
            "i\n"
          ]
        }
      ]
    },
    {
      "cell_type": "code",
      "source": [
        "seq_length = 100"
      ],
      "metadata": {
        "id": "u9fJ4EH-e5p-"
      },
      "execution_count": 40,
      "outputs": []
    },
    {
      "cell_type": "code",
      "source": [
        "sequences = ids_dataset.batch(seq_length+1, drop_remainder=True)\n",
        "\n",
        "for seq in sequences.take(1):\n",
        "  print(chars_from_ids(seq))"
      ],
      "metadata": {
        "colab": {
          "base_uri": "https://localhost:8080/"
        },
        "id": "7HhWMHRVe7YF",
        "outputId": "c939d626-fae1-4a63-8c06-1d5481438fc8"
      },
      "execution_count": 41,
      "outputs": [
        {
          "output_type": "stream",
          "name": "stdout",
          "text": [
            "tf.Tensor(\n",
            "[b'F' b'i' b'r' b's' b't' b' ' b'C' b'i' b't' b'i' b'z' b'e' b'n' b':'\n",
            " b'\\n' b'B' b'e' b'f' b'o' b'r' b'e' b' ' b'w' b'e' b' ' b'p' b'r' b'o'\n",
            " b'c' b'e' b'e' b'd' b' ' b'a' b'n' b'y' b' ' b'f' b'u' b'r' b't' b'h'\n",
            " b'e' b'r' b',' b' ' b'h' b'e' b'a' b'r' b' ' b'm' b'e' b' ' b's' b'p'\n",
            " b'e' b'a' b'k' b'.' b'\\n' b'\\n' b'A' b'l' b'l' b':' b'\\n' b'S' b'p' b'e'\n",
            " b'a' b'k' b',' b' ' b's' b'p' b'e' b'a' b'k' b'.' b'\\n' b'\\n' b'F' b'i'\n",
            " b'r' b's' b't' b' ' b'C' b'i' b't' b'i' b'z' b'e' b'n' b':' b'\\n' b'Y'\n",
            " b'o' b'u' b' '], shape=(101,), dtype=string)\n"
          ]
        }
      ]
    },
    {
      "cell_type": "code",
      "source": [
        "for seq in sequences.take(5):\n",
        "    print(text_from_ids(seq).numpy())"
      ],
      "metadata": {
        "colab": {
          "base_uri": "https://localhost:8080/"
        },
        "id": "HlIe2zLSe9KU",
        "outputId": "6801a281-f9a6-4385-966d-069e54c0fc83"
      },
      "execution_count": 42,
      "outputs": [
        {
          "output_type": "stream",
          "name": "stdout",
          "text": [
            "b'First Citizen:\\nBefore we proceed any further, hear me speak.\\n\\nAll:\\nSpeak, speak.\\n\\nFirst Citizen:\\nYou '\n",
            "b'are all resolved rather to die than to famish?\\n\\nAll:\\nResolved. resolved.\\n\\nFirst Citizen:\\nFirst, you k'\n",
            "b\"now Caius Marcius is chief enemy to the people.\\n\\nAll:\\nWe know't, we know't.\\n\\nFirst Citizen:\\nLet us ki\"\n",
            "b\"ll him, and we'll have corn at our own price.\\nIs't a verdict?\\n\\nAll:\\nNo more talking on't; let it be d\"\n",
            "b'one: away, away!\\n\\nSecond Citizen:\\nOne word, good citizens.\\n\\nFirst Citizen:\\nWe are accounted poor citi'\n"
          ]
        }
      ]
    },
    {
      "cell_type": "code",
      "source": [
        "def split_input_target(sequence):\n",
        "    input_text = sequence[:-1]\n",
        "    target_text = sequence[1:]\n",
        "    return input_text, target_text"
      ],
      "metadata": {
        "id": "CeREOvaEe_b6"
      },
      "execution_count": 43,
      "outputs": []
    },
    {
      "cell_type": "markdown",
      "source": [
        "**Penjelasan:**\n",
        "membagi sebuah urutan menjadi dua bagian: input_text (semua elemen kecuali yang terakhir) dan target_text (semua elemen kecuali yang pertama)."
      ],
      "metadata": {
        "id": "F5QxR_wVCIRq"
      }
    },
    {
      "cell_type": "code",
      "source": [
        "split_input_target(list(\"Tensorflow\"))"
      ],
      "metadata": {
        "colab": {
          "base_uri": "https://localhost:8080/"
        },
        "id": "2TQjzyU-fBSt",
        "outputId": "52d6e489-252b-4541-f5d5-f6acb958b008"
      },
      "execution_count": 44,
      "outputs": [
        {
          "output_type": "execute_result",
          "data": {
            "text/plain": [
              "(['T', 'e', 'n', 's', 'o', 'r', 'f', 'l', 'o'],\n",
              " ['e', 'n', 's', 'o', 'r', 'f', 'l', 'o', 'w'])"
            ]
          },
          "metadata": {},
          "execution_count": 44
        }
      ]
    },
    {
      "cell_type": "code",
      "source": [
        "dataset = sequences.map(split_input_target)"
      ],
      "metadata": {
        "id": "DsSqGBNlfDBS"
      },
      "execution_count": 45,
      "outputs": []
    },
    {
      "cell_type": "code",
      "source": [
        "for input_example, target_example in dataset.take(1):\n",
        "    print(\"Input :\", text_from_ids(input_example).numpy())\n",
        "    print(\"Target:\", text_from_ids(target_example).numpy())"
      ],
      "metadata": {
        "colab": {
          "base_uri": "https://localhost:8080/"
        },
        "id": "4AfyRY3IfE-C",
        "outputId": "2f5981cd-ec2d-432b-951a-98129f3fe186"
      },
      "execution_count": 46,
      "outputs": [
        {
          "output_type": "stream",
          "name": "stdout",
          "text": [
            "Input : b'First Citizen:\\nBefore we proceed any further, hear me speak.\\n\\nAll:\\nSpeak, speak.\\n\\nFirst Citizen:\\nYou'\n",
            "Target: b'irst Citizen:\\nBefore we proceed any further, hear me speak.\\n\\nAll:\\nSpeak, speak.\\n\\nFirst Citizen:\\nYou '\n"
          ]
        }
      ]
    },
    {
      "cell_type": "markdown",
      "source": [
        "### Membuat Batch Training"
      ],
      "metadata": {
        "id": "6sF36c8_fHXa"
      }
    },
    {
      "cell_type": "code",
      "source": [
        "# Batch size\n",
        "BATCH_SIZE = 64\n",
        "\n",
        "# Buffer size to shuffle the dataset\n",
        "# (TF data is designed to work with possibly infinite sequences,\n",
        "# so it doesn't attempt to shuffle the entire sequence in memory. Instead,\n",
        "# it maintains a buffer in which it shuffles elements).\n",
        "BUFFER_SIZE = 10000\n",
        "\n",
        "dataset = (\n",
        "    dataset\n",
        "    .shuffle(BUFFER_SIZE)\n",
        "    .batch(BATCH_SIZE, drop_remainder=True)\n",
        "    .prefetch(tf.data.experimental.AUTOTUNE))\n",
        "\n",
        "dataset"
      ],
      "metadata": {
        "colab": {
          "base_uri": "https://localhost:8080/"
        },
        "id": "uXJqGba7fG7z",
        "outputId": "9267b3f0-bb9f-4116-ec7c-ea585a49b846"
      },
      "execution_count": 47,
      "outputs": [
        {
          "output_type": "execute_result",
          "data": {
            "text/plain": [
              "<_PrefetchDataset element_spec=(TensorSpec(shape=(64, 100), dtype=tf.int64, name=None), TensorSpec(shape=(64, 100), dtype=tf.int64, name=None))>"
            ]
          },
          "metadata": {},
          "execution_count": 47
        }
      ]
    },
    {
      "cell_type": "markdown",
      "source": [
        "**Penjelasan:**\n",
        "Untuk mengacak, membagi dataset menjadi batch, dan memuat data secara paralel untuk efisiensi."
      ],
      "metadata": {
        "id": "-CXizwm2Czzg"
      }
    },
    {
      "cell_type": "markdown",
      "source": [
        "### Membuat Model"
      ],
      "metadata": {
        "id": "bS-3ZYhIfRcb"
      }
    },
    {
      "cell_type": "code",
      "source": [
        "# Length of the vocabulary in StringLookup Layer\n",
        "vocab_size = len(ids_from_chars.get_vocabulary())\n",
        "\n",
        "# The embedding dimension\n",
        "embedding_dim = 256\n",
        "\n",
        "# Number of RNN units\n",
        "rnn_units = 1024"
      ],
      "metadata": {
        "id": "PXz0aaVlfRCr"
      },
      "execution_count": 48,
      "outputs": []
    },
    {
      "cell_type": "markdown",
      "source": [
        "**Penjelasan:**\n",
        "Untuk mendefinisikan tiga hal: ukuran vocab (jumlah karakter unik), dimensi embedding (256), dan jumlah unit RNN (1024) yang akan digunakan dalam model"
      ],
      "metadata": {
        "id": "SCTWKJgzDByQ"
      }
    },
    {
      "cell_type": "code",
      "source": [
        "class MyModel(tf.keras.Model):\n",
        "  def __init__(self, vocab_size, embedding_dim, rnn_units):\n",
        "    super().__init__(self)\n",
        "    self.embedding = tf.keras.layers.Embedding(vocab_size, embedding_dim)\n",
        "    self.gru = tf.keras.layers.GRU(rnn_units,\n",
        "                                   return_sequences=True,\n",
        "                                   return_state=True)\n",
        "    self.dense = tf.keras.layers.Dense(vocab_size)\n",
        "\n",
        "  def call(self, inputs, states=None, return_state=False, training=False):\n",
        "    x = inputs\n",
        "    x = self.embedding(x, training=training)\n",
        "    if states is None:\n",
        "      states = self.gru.get_initial_state(x)\n",
        "    x, states = self.gru(x, initial_state=states, training=training)\n",
        "    x = self.dense(x, training=training)\n",
        "\n",
        "    if return_state:\n",
        "      return x, states\n",
        "    else:\n",
        "      return x"
      ],
      "metadata": {
        "id": "Enmu513zfWqk"
      },
      "execution_count": 49,
      "outputs": []
    },
    {
      "cell_type": "markdown",
      "source": [
        "**Penjelasan:**\n",
        "Model ini menggunakan lapisan embedding, GRU, dan dense untuk memproses urutan data dan menghasilkan prediksi."
      ],
      "metadata": {
        "id": "sFCsVxjzDMoP"
      }
    },
    {
      "cell_type": "code",
      "source": [
        "model = MyModel(\n",
        "    vocab_size=vocab_size,\n",
        "    embedding_dim=embedding_dim,\n",
        "    rnn_units=rnn_units)"
      ],
      "metadata": {
        "id": "TZ5Lk1dLfYpu"
      },
      "execution_count": 50,
      "outputs": []
    },
    {
      "cell_type": "markdown",
      "source": [
        "## Tugas"
      ],
      "metadata": {
        "id": "VCY6FaVqfcE6"
      }
    },
    {
      "cell_type": "code",
      "source": [
        "class CustomTraining(MyModel):\n",
        "  @tf.function\n",
        "  def train_step(self, inputs):\n",
        "    inputs, labels = inputs\n",
        "    with tf.GradientTape() as tape:\n",
        "      predictions = self(inputs, training=True)\n",
        "      loss = self.loss(labels, predictions)\n",
        "    grads = tape.gradient(loss, model.trainable_variables)\n",
        "    self.optimizer.apply_gradients(zip(grads, model.trainable_variables))\n",
        "\n",
        "    return {'loss': loss}"
      ],
      "metadata": {
        "id": "7pxYsiQDferW"
      },
      "execution_count": 51,
      "outputs": []
    },
    {
      "cell_type": "code",
      "source": [
        "model = CustomTraining(\n",
        "    vocab_size=len(ids_from_chars.get_vocabulary()),\n",
        "    embedding_dim=embedding_dim,\n",
        "    rnn_units=rnn_units)"
      ],
      "metadata": {
        "id": "UyfGek9LfjwT"
      },
      "execution_count": 52,
      "outputs": []
    },
    {
      "cell_type": "code",
      "source": [
        "model.compile(optimizer = tf.keras.optimizers.Adam(),\n",
        "              loss=tf.keras.losses.SparseCategoricalCrossentropy(from_logits=True))"
      ],
      "metadata": {
        "id": "NgUQ_A30flHQ"
      },
      "execution_count": 53,
      "outputs": []
    },
    {
      "cell_type": "code",
      "source": [
        "model.fit(dataset, epochs=1)"
      ],
      "metadata": {
        "colab": {
          "base_uri": "https://localhost:8080/"
        },
        "id": "asoejX5ifmgI",
        "outputId": "ee789d3a-b13d-443c-dc64-2923d21f5d08"
      },
      "execution_count": 54,
      "outputs": [
        {
          "output_type": "stream",
          "name": "stdout",
          "text": [
            "172/172 [==============================] - 127s 716ms/step - loss: 2.7122\n"
          ]
        },
        {
          "output_type": "execute_result",
          "data": {
            "text/plain": [
              "<keras.src.callbacks.History at 0x7fe4abf7b2b0>"
            ]
          },
          "metadata": {},
          "execution_count": 54
        }
      ]
    },
    {
      "cell_type": "code",
      "source": [
        "EPOCHS = 10\n",
        "\n",
        "mean = tf.metrics.Mean()\n",
        "\n",
        "for epoch in range(EPOCHS):\n",
        "    start = time.time()\n",
        "\n",
        "    mean.reset_states()\n",
        "    for (batch_n, (inp, target)) in enumerate(dataset):\n",
        "        logs = model.train_step([inp, target])\n",
        "        mean.update_state(logs['loss'])\n",
        "\n",
        "        if batch_n % 50 == 0:\n",
        "            template = f\"Epoch {epoch+1} Batch {batch_n} Loss {logs['loss']:.4f}\"\n",
        "            print(template)\n",
        "\n",
        "    # saving (checkpoint) the model every 5 epochs\n",
        "    if (epoch + 1) % 5 == 0:\n",
        "        model.save_weights(checkpoint_prefix.format(epoch=epoch))\n",
        "\n",
        "    print()\n",
        "    print(f'Epoch {epoch+1} Loss: {mean.result().numpy():.4f}')\n",
        "    print(f'Time taken for 1 epoch {time.time() - start:.2f} sec')\n",
        "    print(\"_\"*80)"
      ],
      "metadata": {
        "colab": {
          "base_uri": "https://localhost:8080/"
        },
        "id": "LvrNW0wBfoT_",
        "outputId": "8ae7a807-6b81-4651-b0f6-78beded63faf"
      },
      "execution_count": null,
      "outputs": [
        {
          "output_type": "stream",
          "name": "stdout",
          "text": [
            "Epoch 1 Batch 0 Loss 2.1610\n",
            "Epoch 1 Batch 50 Loss 2.0544\n",
            "Epoch 1 Batch 100 Loss 1.9618\n",
            "Epoch 1 Batch 150 Loss 1.8329\n",
            "\n",
            "Epoch 1 Loss: 1.9874\n",
            "Time taken for 1 epoch 126.17 sec\n",
            "________________________________________________________________________________\n",
            "Epoch 2 Batch 0 Loss 1.7795\n",
            "Epoch 2 Batch 50 Loss 1.7558\n",
            "Epoch 2 Batch 100 Loss 1.7135\n",
            "Epoch 2 Batch 150 Loss 1.6119\n",
            "\n",
            "Epoch 2 Loss: 1.7080\n",
            "Time taken for 1 epoch 123.37 sec\n",
            "________________________________________________________________________________\n",
            "Epoch 3 Batch 0 Loss 1.5726\n",
            "Epoch 3 Batch 50 Loss 1.5632\n",
            "Epoch 3 Batch 100 Loss 1.4879\n",
            "Epoch 3 Batch 150 Loss 1.5145\n",
            "\n",
            "Epoch 3 Loss: 1.5467\n",
            "Time taken for 1 epoch 124.29 sec\n",
            "________________________________________________________________________________\n",
            "Epoch 4 Batch 0 Loss 1.4256\n"
          ]
        }
      ]
    },
    {
      "cell_type": "markdown",
      "source": [
        "**Perbedaan:**  \n",
        "* Praktikum 2 menggunakan train yang lebih umum dan sederhana dengan model.fit,\n",
        "* Kode tugas menggunakan train yang khusus dan kompleks.  \n",
        "  Dalam pendekatan ini, ada penggunaan metode train_step dalam model turunan yang mengatur train pada tingkat batch. Ini melibatkan perhitungan loss, perhitungan gradien, peningkatan bobot model, dan pemanfaatan tf.metrics.Mean untuk menghitung rata-rata loss selama proses train. Dengan pendekatan ini, terdapat tingkat kontrol yang lebih besar dan fleksibilitas dalam mengatur proses train model."
      ],
      "metadata": {
        "id": "rJVG5K4sRZkG"
      }
    }
  ],
  "metadata": {
    "colab": {
      "provenance": [],
      "gpuType": "V28",
      "authorship_tag": "ABX9TyNcLvsbCUDNxfPFaNau+m93",
      "include_colab_link": true
    },
    "kernelspec": {
      "display_name": "Python 3",
      "name": "python3"
    },
    "language_info": {
      "name": "python"
    },
    "accelerator": "TPU"
  },
  "nbformat": 4,
  "nbformat_minor": 0
}